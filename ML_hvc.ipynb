{
 "cells": [
  {
   "cell_type": "code",
   "execution_count": 1,
   "metadata": {},
   "outputs": [],
   "source": [
    "import matplotlib.pyplot as plt\n",
    "import numpy as np\n",
    "from HSTCOS.aux.specgen import create_spectrum\n",
    "import astropy.units as u\n",
    "import astropy.constants as c\n",
    "from time import time\n",
    "from HSTCOS.aux.ui import Formatter\n",
    "fmt = Formatter()"
   ]
  },
  {
   "cell_type": "code",
   "execution_count": 2,
   "metadata": {},
   "outputs": [
    {
     "name": "stdout",
     "output_type": "stream",
     "text": [
      "\n",
      "    Generates and integrates the spectrum along a given line-of sight on a regular-spaced grid\n",
      "    \n",
      "    Args:\n",
      "    \n",
      "        - dN (astropy.units.Quantity): array of column densities\n",
      "        - temp (astropy.units.Quantity): quantity array containing the temperatures of the absorber\n",
      "        - rad_vel (astropy.units.Quantity): radial_velocities of the absorbers\n",
      "        - wavelength_lims (astropy.units.Quantity): defines the wavelengths limits in between which the spectrum is to be generated\n",
      "        - spec_resolution (float): defines the spectral resolution at which the artificial spectrum is being generated. Refers to the R number = Delta lambda / lambda\n",
      "        - ion_mass (astropy.units.Quantity): mass of the ion given as an astropy quantity with dimension mass\n",
      "    \n",
      "    \n",
      "    Kwargs:\n",
      "    \n",
      "        - debug (boolean, optional) : Enables the debug mode in set true\n",
      "        - nist_args (dict, optional) : A dictionary for a nist query. The dictionary must contain the following entries:\n",
      "            \n",
      "            - \"linename\" : Name of the ion (e.g. \"Na I\")\n",
      "            - \"wavelength_type\" : The type of wavelength to retrieve. You may choose between \"vacuum\" or \"air+vac\"\n",
      "            - \"wavelength_lims\" : The wavelength range to explore. This must be an astropy Quantity or an iterable of length 2 containing astropy quantities. It must be compatible with a length.\n",
      "        \n",
      "        - line_dict (dict, optional) : A dictionary that contains information regarding the quantum transitions. It must contains the following entries:\n",
      "            \n",
      "            - \"Wavelength\" (float or astropy.units.Quantity): The central wavelength of the quantum transition. If a floating point value or an array of floating point values is provided they are assumed to be given in units of angstrom.\n",
      "            - \"Aki\" (float or astropy.units.Quantity): The transition's Einstein coefficient. If a floating point value or an array of floating point values is provided they are assumed to be given in units of inverse seconds.\n",
      "            - \"fik\" (float): The transition's oscillator strength.\n",
      "            \n",
      "        - cube_out (boolean): Specify whether the optical depths of all transitions and absorbing systems should be summed up before output. If enabled, this function yields the uncollapsed data output. (defaults to: False)\n",
      "    \n",
      "    \n",
      "    Returns:\n",
      "    \n",
      "        2-tuple of np.ndarray. The first entry gives a wavelength range. The second entry yields the cube/spectral information of the computed optical depths. If the cube option is enabled, the cube encodes the following quantities:\n",
      "        \n",
      "        Axes:\n",
      "        \n",
      "            [0] individual spectral lines\n",
      "            [1] individual absorbing systems\n",
      "            [2] spectral axis (varying wavelengths)\n",
      "    \n"
     ]
    }
   ],
   "source": [
    "# Write the docstring of the spectrum-generating function\n",
    "print(create_spectrum.__doc__)"
   ]
  },
  {
   "cell_type": "code",
   "execution_count": 3,
   "metadata": {},
   "outputs": [
    {
     "name": "stdout",
     "output_type": "stream",
     "text": [
      "2024-01-31 22:43:05\t\u001b[38;2;175;175;175m\u001b[1m[INFO]\u001b[0m Starting the generation of HVC features ...\n",
      "2024-01-31 22:43:09\t\u001b[38;2;175;175;175m\u001b[1m[INFO]\u001b[0m Starting the generation of ISM features ...\n",
      "2024-01-31 22:43:18\t\u001b[38;2;175;175;175m\u001b[1m[INFO]\u001b[0m Merging the spectra ...\n",
      "2024-01-31 22:43:18\t\u001b[38;2;175;175;175m\u001b[1m[INFO]\u001b[0m Generation of spectra has finished ...\n"
     ]
    }
   ],
   "source": [
    "## Some spectra parameters\n",
    "N_sightlines = 100\n",
    "\n",
    "# Noise settings\n",
    "SNR_poisson     = 10000.\n",
    "SNR_gauss       = 10000.\n",
    "\n",
    "# Spectral settings\n",
    "resolution      = 120000\n",
    "ion             = \"SiIII\"\n",
    "ion_mass        = 28.08 * u.u\n",
    "wavelength_lims = (1200, 1210) * u.AA\n",
    "\n",
    "# Absorber settings\n",
    "N_ISM           = 10.**np.random.uniform(15., 16., N_sightlines) / u.cm**2\n",
    "T_ISM           = np.random.uniform(2000., 3000., N_sightlines) * u.K\n",
    "\n",
    "N_HVC           = 10.**np.random.uniform(11., 12., N_sightlines) / u.cm**2\n",
    "N_HVC           = np.sort(N_HVC)\n",
    "N_HVC[:int(N_sightlines/3)] = 0. / u.cm**2 # set a third of the HVC absorbers to zero\n",
    "\n",
    "V_HVC           = np.random.uniform(-200., 200., N_sightlines) * u.km / u.s\n",
    "T_HVC           = np.random.uniform(2000., 3000., N_sightlines) * u.K\n",
    "\n",
    "fmt.info(\"Starting the generation of HVC features ...\")\n",
    "## Generate the spectra\n",
    "wavelengths, HVC_spectra = create_spectrum(\n",
    "    dN   = N_HVC,\n",
    "    temp = T_HVC,\n",
    "    rad_vel= V_HVC,\n",
    "    wavelength_lims=wavelength_lims,\n",
    "    spec_resolution=resolution,\n",
    "    ion_mass=ion_mass,\n",
    "    nist_args={\n",
    "        \"linename\":\"Si III\",\n",
    "        \"wavelength_type\":\"vacuum\",\n",
    "        \"wavelength_lims\":wavelength_lims\n",
    "    },\n",
    "    cube_out=True\n",
    ")\n",
    "\n",
    "fmt.info(\"Starting the generation of ISM features ...\")\n",
    "## Generate the spectra\n",
    "wavelengths, ISM_spectra = create_spectrum(\n",
    "    dN   = N_ISM,\n",
    "    temp = T_ISM,\n",
    "    rad_vel= np.full_like(N_ISM.value, 0.) * u.km / u.s,\n",
    "    wavelength_lims=wavelength_lims,\n",
    "    spec_resolution=resolution,\n",
    "    ion_mass=ion_mass,\n",
    "    nist_args={\n",
    "        \"linename\":\"Si III\",\n",
    "        \"wavelength_type\":\"vacuum\",\n",
    "        \"wavelength_lims\":wavelength_lims\n",
    "    },\n",
    "    cube_out=True\n",
    ")\n",
    "fmt.info(\"Merging the spectra ...\")\n",
    "spectra = np.exp(-np.sum(ISM_spectra + HVC_spectra, axis=0))\n",
    "\n",
    "# Add some noise\n",
    "spectra_noise = np.random.poisson(SNR_poisson**2 * spectra, spectra.shape) / SNR_poisson**2 + np.random.normal(0., 1/SNR_gauss, spectra.shape)\n",
    "\n",
    "fmt.info(\"Generation of spectra has finished!\")"
   ]
  },
  {
   "cell_type": "code",
   "execution_count": 17,
   "metadata": {},
   "outputs": [
    {
     "name": "stdout",
     "output_type": "stream",
     "text": [
      "v_HVC = -110.215260\n",
      "N_ISM = 1587578922088500.250000\n",
      "N_HVC = 783686558696.678101\n",
      "T_HVC = 2557.514761\n",
      "T_ISM = 2053.329124\n"
     ]
    },
    {
     "data": {
      "image/png": "[encoded data removed]",
      "text/plain": [
       "<Figure size 640x480 with 1 Axes>"
      ]
     },
     "metadata": {},
     "output_type": "display_data"
    }
   ],
   "source": [
    "from HSTCOS.aux.plotting import Fdefaultplotstyle\n",
    "Fdefaultplotstyle()\n",
    "\n",
    "which_one = -10\n",
    "\n",
    "fig, ax = plt.subplots()\n",
    "\n",
    "ax.step(wavelengths, spectra_noise[which_one].T)\n",
    "#print(\"v_ISM = %f\" % V_ISM[which_one])\n",
    "print(\"v_HVC = %f\" % V_HVC[which_one].to_value(u.km/u.s))\n",
    "print(\"N_ISM = %f\" % N_ISM[which_one].to_value(u.cm**-2))\n",
    "print(\"N_HVC = %f\" % N_HVC[which_one].to_value(u.cm**-2))\n",
    "print(\"T_HVC = %f\" % T_HVC[which_one].to_value(u.K))\n",
    "print(\"T_ISM = %f\" % T_ISM[which_one].to_value(u.K))\n",
    "ax.set_ylim(bottom=0.)\n",
    "plt.show()"
   ]
  },
  {
   "cell_type": "code",
   "execution_count": null,
   "metadata": {},
   "outputs": [],
   "source": []
  }
 ],
 "metadata": {
  "kernelspec": {
   "display_name": "base",
   "language": "python",
   "name": "base"
  },
  "language_info": {
   "codemirror_mode": {
    "name": "ipython",
    "version": 3
   },
   "file_extension": ".py",
   "mimetype": "text/x-python",
   "name": "python",
   "nbconvert_exporter": "python",
   "pygments_lexer": "ipython3",
   "version": "3.9.16"
  }
 },
 "nbformat": 4,
 "nbformat_minor": 4
}
